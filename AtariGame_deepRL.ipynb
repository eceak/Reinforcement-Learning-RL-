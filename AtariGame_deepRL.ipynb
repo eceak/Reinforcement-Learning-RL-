{
 "cells": [
  {
   "cell_type": "code",
   "execution_count": 1,
   "id": "d28cf09a",
   "metadata": {},
   "outputs": [
    {
     "name": "stdout",
     "output_type": "stream",
     "text": [
      "Requirement already satisfied: tensorflow==2.3.1 in /home/ece/home/ece/anaconda3.1/lib/python3.8/site-packages (2.3.1)\n",
      "Requirement already satisfied: gym in /home/ece/home/ece/anaconda3.1/lib/python3.8/site-packages (0.18.3)\n",
      "Requirement already satisfied: keras-rl2 in /home/ece/home/ece/anaconda3.1/lib/python3.8/site-packages (1.0.5)\n",
      "Requirement already satisfied: six>=1.12.0 in /home/ece/home/ece/anaconda3.1/lib/python3.8/site-packages (from tensorflow==2.3.1) (1.15.0)\n",
      "Requirement already satisfied: opt-einsum>=2.3.2 in /home/ece/home/ece/anaconda3.1/lib/python3.8/site-packages (from tensorflow==2.3.1) (3.3.0)\n",
      "Requirement already satisfied: termcolor>=1.1.0 in /home/ece/home/ece/anaconda3.1/lib/python3.8/site-packages (from tensorflow==2.3.1) (1.1.0)\n",
      "Requirement already satisfied: absl-py>=0.7.0 in /home/ece/home/ece/anaconda3.1/lib/python3.8/site-packages (from tensorflow==2.3.1) (0.12.0)\n",
      "Requirement already satisfied: grpcio>=1.8.6 in /home/ece/home/ece/anaconda3.1/lib/python3.8/site-packages (from tensorflow==2.3.1) (1.32.0)\n",
      "Requirement already satisfied: google-pasta>=0.1.8 in /home/ece/home/ece/anaconda3.1/lib/python3.8/site-packages (from tensorflow==2.3.1) (0.2.0)\n",
      "Requirement already satisfied: h5py<2.11.0,>=2.10.0 in /home/ece/home/ece/anaconda3.1/lib/python3.8/site-packages (from tensorflow==2.3.1) (2.10.0)\n",
      "Requirement already satisfied: protobuf>=3.9.2 in /home/ece/home/ece/anaconda3.1/lib/python3.8/site-packages (from tensorflow==2.3.1) (3.14.0)\n",
      "Requirement already satisfied: tensorflow-estimator<2.4.0,>=2.3.0 in /home/ece/home/ece/anaconda3.1/lib/python3.8/site-packages (from tensorflow==2.3.1) (2.3.0)\n",
      "Requirement already satisfied: keras-preprocessing<1.2,>=1.1.1 in /home/ece/home/ece/anaconda3.1/lib/python3.8/site-packages (from tensorflow==2.3.1) (1.1.2)\n",
      "Requirement already satisfied: gast==0.3.3 in /home/ece/home/ece/anaconda3.1/lib/python3.8/site-packages (from tensorflow==2.3.1) (0.3.3)\n",
      "Requirement already satisfied: wheel>=0.26 in /home/ece/home/ece/anaconda3.1/lib/python3.8/site-packages (from tensorflow==2.3.1) (0.36.2)\n",
      "Requirement already satisfied: wrapt>=1.11.1 in /home/ece/home/ece/anaconda3.1/lib/python3.8/site-packages (from tensorflow==2.3.1) (1.12.1)\n",
      "Requirement already satisfied: numpy<1.19.0,>=1.16.0 in /home/ece/home/ece/anaconda3.1/lib/python3.8/site-packages (from tensorflow==2.3.1) (1.18.5)\n",
      "Requirement already satisfied: tensorboard<3,>=2.3.0 in /home/ece/home/ece/anaconda3.1/lib/python3.8/site-packages (from tensorflow==2.3.1) (2.4.1)\n",
      "Requirement already satisfied: astunparse==1.6.3 in /home/ece/home/ece/anaconda3.1/lib/python3.8/site-packages (from tensorflow==2.3.1) (1.6.3)\n",
      "Requirement already satisfied: markdown>=2.6.8 in /home/ece/home/ece/anaconda3.1/lib/python3.8/site-packages (from tensorboard<3,>=2.3.0->tensorflow==2.3.1) (3.3.4)\n",
      "Requirement already satisfied: setuptools>=41.0.0 in /home/ece/home/ece/anaconda3.1/lib/python3.8/site-packages (from tensorboard<3,>=2.3.0->tensorflow==2.3.1) (57.0.0)\n",
      "Requirement already satisfied: tensorboard-plugin-wit>=1.6.0 in /home/ece/home/ece/anaconda3.1/lib/python3.8/site-packages (from tensorboard<3,>=2.3.0->tensorflow==2.3.1) (1.8.0)\n",
      "Requirement already satisfied: werkzeug>=0.11.15 in /home/ece/home/ece/anaconda3.1/lib/python3.8/site-packages (from tensorboard<3,>=2.3.0->tensorflow==2.3.1) (1.0.1)\n",
      "Requirement already satisfied: requests<3,>=2.21.0 in /home/ece/home/ece/anaconda3.1/lib/python3.8/site-packages (from tensorboard<3,>=2.3.0->tensorflow==2.3.1) (2.25.1)\n",
      "Requirement already satisfied: google-auth-oauthlib<0.5,>=0.4.1 in /home/ece/home/ece/anaconda3.1/lib/python3.8/site-packages (from tensorboard<3,>=2.3.0->tensorflow==2.3.1) (0.4.1)\n",
      "Requirement already satisfied: google-auth<2,>=1.6.3 in /home/ece/home/ece/anaconda3.1/lib/python3.8/site-packages (from tensorboard<3,>=2.3.0->tensorflow==2.3.1) (1.30.0)\n",
      "Requirement already satisfied: cachetools<5.0,>=2.0.0 in /home/ece/home/ece/anaconda3.1/lib/python3.8/site-packages (from google-auth<2,>=1.6.3->tensorboard<3,>=2.3.0->tensorflow==2.3.1) (4.2.2)\n",
      "Requirement already satisfied: pyasn1-modules>=0.2.1 in /home/ece/home/ece/anaconda3.1/lib/python3.8/site-packages (from google-auth<2,>=1.6.3->tensorboard<3,>=2.3.0->tensorflow==2.3.1) (0.2.7)\n",
      "Requirement already satisfied: rsa<5,>=3.1.4 in /home/ece/home/ece/anaconda3.1/lib/python3.8/site-packages (from google-auth<2,>=1.6.3->tensorboard<3,>=2.3.0->tensorflow==2.3.1) (4.7.2)\n",
      "Requirement already satisfied: requests-oauthlib>=0.7.0 in /home/ece/home/ece/anaconda3.1/lib/python3.8/site-packages (from google-auth-oauthlib<0.5,>=0.4.1->tensorboard<3,>=2.3.0->tensorflow==2.3.1) (1.3.0)\n",
      "Requirement already satisfied: pyasn1<0.5.0,>=0.4.6 in /home/ece/home/ece/anaconda3.1/lib/python3.8/site-packages (from pyasn1-modules>=0.2.1->google-auth<2,>=1.6.3->tensorboard<3,>=2.3.0->tensorflow==2.3.1) (0.4.8)\n",
      "Requirement already satisfied: urllib3<1.27,>=1.21.1 in /home/ece/home/ece/anaconda3.1/lib/python3.8/site-packages (from requests<3,>=2.21.0->tensorboard<3,>=2.3.0->tensorflow==2.3.1) (1.26.4)\n",
      "Requirement already satisfied: chardet<5,>=3.0.2 in /home/ece/home/ece/anaconda3.1/lib/python3.8/site-packages (from requests<3,>=2.21.0->tensorboard<3,>=2.3.0->tensorflow==2.3.1) (4.0.0)\n",
      "Requirement already satisfied: idna<3,>=2.5 in /home/ece/home/ece/anaconda3.1/lib/python3.8/site-packages (from requests<3,>=2.21.0->tensorboard<3,>=2.3.0->tensorflow==2.3.1) (2.10)\n",
      "Requirement already satisfied: certifi>=2017.4.17 in /home/ece/home/ece/anaconda3.1/lib/python3.8/site-packages (from requests<3,>=2.21.0->tensorboard<3,>=2.3.0->tensorflow==2.3.1) (2020.12.5)\n",
      "Requirement already satisfied: oauthlib>=3.0.0 in /home/ece/home/ece/anaconda3.1/lib/python3.8/site-packages (from requests-oauthlib>=0.7.0->google-auth-oauthlib<0.5,>=0.4.1->tensorboard<3,>=2.3.0->tensorflow==2.3.1) (3.0.1)\n",
      "Requirement already satisfied: scipy in /home/ece/home/ece/anaconda3.1/lib/python3.8/site-packages (from gym) (1.6.3)\n",
      "Requirement already satisfied: Pillow<=8.2.0 in /home/ece/home/ece/anaconda3.1/lib/python3.8/site-packages (from gym) (8.2.0)\n",
      "Requirement already satisfied: pyglet<=1.5.15,>=1.4.0 in /home/ece/home/ece/anaconda3.1/lib/python3.8/site-packages (from gym) (1.5.15)\n",
      "Requirement already satisfied: cloudpickle<1.7.0,>=1.2.0 in /home/ece/home/ece/anaconda3.1/lib/python3.8/site-packages (from gym) (1.6.0)\n",
      "Requirement already satisfied: atari-py~=0.2.0 in /home/ece/home/ece/anaconda3.1/lib/python3.8/site-packages (from gym) (0.2.9)\n",
      "Requirement already satisfied: opencv-python>=3. in /home/ece/home/ece/anaconda3.1/lib/python3.8/site-packages (from gym) (4.5.1.48)\n",
      "\u001b[33mWARNING: You are using pip version 21.1.3; however, version 21.2.4 is available.\n",
      "You should consider upgrading via the '/home/ece/home/ece/anaconda3.1/bin/python3 -m pip install --upgrade pip' command.\u001b[0m\n"
     ]
    }
   ],
   "source": [
    "#install dependencies\n",
    "!pip install tensorflow==2.3.1 gym keras-rl2 gym[atari]"
   ]
  },
  {
   "cell_type": "code",
   "execution_count": 2,
   "id": "3627f860",
   "metadata": {},
   "outputs": [],
   "source": [
    "#test random environment with OpenAI Gym"
   ]
  },
  {
   "cell_type": "code",
   "execution_count": 3,
   "id": "e0e75d4c",
   "metadata": {},
   "outputs": [],
   "source": [
    "import gym\n",
    "import random"
   ]
  },
  {
   "cell_type": "code",
   "execution_count": 4,
   "id": "d69e0f3b",
   "metadata": {},
   "outputs": [
    {
     "name": "stdout",
     "output_type": "stream",
     "text": [
      "copying zaxxon.bin from /home/ece/Belgeler/RLimplementation/ROMS/Zaxxon (1983) (Coleco) (2454) ~.bin to /home/ece/home/ece/anaconda3.1/lib/python3.8/site-packages/atari_py/atari_roms/zaxxon.bin\n",
      "copying star_gunner.bin from /home/ece/Belgeler/RLimplementation/ROMS/Stargunner (1983) (Telesys, Alex Leavens) (1005) ~.bin to /home/ece/home/ece/anaconda3.1/lib/python3.8/site-packages/atari_py/atari_roms/star_gunner.bin\n",
      "copying adventure.bin from /home/ece/Belgeler/RLimplementation/ROMS/Adventure (1980) (Atari, Warren Robinett) (CX2613, CX2613P) (PAL).bin to /home/ece/home/ece/anaconda3.1/lib/python3.8/site-packages/atari_py/atari_roms/adventure.bin\n",
      "copying tutankham.bin from /home/ece/Belgeler/RLimplementation/ROMS/Tutankham (1983) (Parker Brothers, Dave Engman, Dawn Stockbridge) (PB5340) ~.bin to /home/ece/home/ece/anaconda3.1/lib/python3.8/site-packages/atari_py/atari_roms/tutankham.bin\n",
      "copying surround.bin from /home/ece/Belgeler/RLimplementation/ROMS/Surround (32 in 1) (Bit Corporation) (R320).bin to /home/ece/home/ece/anaconda3.1/lib/python3.8/site-packages/atari_py/atari_roms/surround.bin\n",
      "copying qbert.bin from /home/ece/Belgeler/RLimplementation/ROMS/Q. Bert (1983) (CCE) (C-822).bin to /home/ece/home/ece/anaconda3.1/lib/python3.8/site-packages/atari_py/atari_roms/qbert.bin\n",
      "copying asteroids.bin from /home/ece/Belgeler/RLimplementation/ROMS/Asteroids (1981) (Atari, Brad Stewart - Sears) (CX2649 - 49-75163) [no copyright] ~.bin to /home/ece/home/ece/anaconda3.1/lib/python3.8/site-packages/atari_py/atari_roms/asteroids.bin\n",
      "copying breakout.bin from /home/ece/Belgeler/RLimplementation/ROMS/Breakout - Breakaway IV (Paddle) (1978) (Atari, Brad Stewart - Sears) (CX2622 - 6-99813, 49-75107) ~.bin to /home/ece/home/ece/anaconda3.1/lib/python3.8/site-packages/atari_py/atari_roms/breakout.bin\n",
      "copying galaxian.bin from /home/ece/Belgeler/RLimplementation/ROMS/Galaxian (1983) (Atari - GCC, Mark Ackerman, Tom Calderwood, Glenn Parker) (CX2684) ~.bin to /home/ece/home/ece/anaconda3.1/lib/python3.8/site-packages/atari_py/atari_roms/galaxian.bin\n",
      "copying pooyan.bin from /home/ece/Belgeler/RLimplementation/ROMS/Pooyan (1983) (Konami) (RC 100-X 02) ~.bin to /home/ece/home/ece/anaconda3.1/lib/python3.8/site-packages/atari_py/atari_roms/pooyan.bin\n",
      "copying chopper_command.bin from /home/ece/Belgeler/RLimplementation/ROMS/Chopper Command (1982) (Activision, Bob Whitehead) (AX-015, AX-015-04) ~.bin to /home/ece/home/ece/anaconda3.1/lib/python3.8/site-packages/atari_py/atari_roms/chopper_command.bin\n",
      "copying freeway.bin from /home/ece/Belgeler/RLimplementation/ROMS/Freeway (1981) (Activision, David Crane) (AG-009, AG-009-04) ~.bin to /home/ece/home/ece/anaconda3.1/lib/python3.8/site-packages/atari_py/atari_roms/freeway.bin\n",
      "copying trondead.bin from /home/ece/Belgeler/RLimplementation/ROMS/TRON - Deadly Discs (TRON Joystick) (1983) (M Network - INTV - APh Technological Consulting, Jeff Ronne, Brett Stutz) (MT5662) ~.bin to /home/ece/home/ece/anaconda3.1/lib/python3.8/site-packages/atari_py/atari_roms/trondead.bin\n",
      "copying fishing_derby.bin from /home/ece/Belgeler/RLimplementation/ROMS/Fishing Derby (1980) (Activision, David Crane) (AG-004) ~.bin to /home/ece/home/ece/anaconda3.1/lib/python3.8/site-packages/atari_py/atari_roms/fishing_derby.bin\n",
      "copying road_runner.bin from patched version of /home/ece/Belgeler/RLimplementation/ROMS/Road Runner (1989) (Atari - Bobco, Robert C. Polaro) (CX2663) ~.bin to /home/ece/home/ece/anaconda3.1/lib/python3.8/site-packages/atari_py/atari_roms/road_runner.bin\n",
      "copying venture.bin from /home/ece/Belgeler/RLimplementation/ROMS/Venture (1982) (Coleco, Joseph Biel) (2457) ~.bin to /home/ece/home/ece/anaconda3.1/lib/python3.8/site-packages/atari_py/atari_roms/venture.bin\n",
      "copying video_pinball.bin from /home/ece/Belgeler/RLimplementation/ROMS/Pinball (AKA Video Pinball) (Zellers).bin to /home/ece/home/ece/anaconda3.1/lib/python3.8/site-packages/atari_py/atari_roms/video_pinball.bin\n",
      "copying boxing.bin from /home/ece/Belgeler/RLimplementation/ROMS/Boxing - La Boxe (1980) (Activision, Bob Whitehead) (AG-002, CAG-002, AG-002-04) ~.bin to /home/ece/home/ece/anaconda3.1/lib/python3.8/site-packages/atari_py/atari_roms/boxing.bin\n",
      "copying demon_attack.bin from /home/ece/Belgeler/RLimplementation/ROMS/Demon Attack (Death from Above) (1982) (Imagic, Rob Fulop) (720000-200, 720101-1B, 720101-1C, IA3200, IA3200C, IX-006-04) ~.bin to /home/ece/home/ece/anaconda3.1/lib/python3.8/site-packages/atari_py/atari_roms/demon_attack.bin\n",
      "copying lost_luggage.bin from /home/ece/Belgeler/RLimplementation/ROMS/Lost Luggage (Airport Mayhem) (1982) (Apollo - Games by Apollo, Larry Minor, Ernie Runyon, Ed Salvo) (AP-2004) [no opening scene] ~.bin to /home/ece/home/ece/anaconda3.1/lib/python3.8/site-packages/atari_py/atari_roms/lost_luggage.bin\n",
      "copying ice_hockey.bin from /home/ece/Belgeler/RLimplementation/ROMS/Ice Hockey - Le Hockey Sur Glace (1981) (Activision, Alan Miller) (AX-012, CAX-012, AX-012-04) ~.bin to /home/ece/home/ece/anaconda3.1/lib/python3.8/site-packages/atari_py/atari_roms/ice_hockey.bin\n",
      "copying double_dunk.bin from /home/ece/Belgeler/RLimplementation/ROMS/Double Dunk (Super Basketball) (1989) (Atari, Matthew L. Hubbard) (CX26159) ~.bin to /home/ece/home/ece/anaconda3.1/lib/python3.8/site-packages/atari_py/atari_roms/double_dunk.bin\n",
      "copying skiing.bin from /home/ece/Belgeler/RLimplementation/ROMS/Skiing - Le Ski (1980) (Activision, Bob Whitehead) (AG-005, CAG-005, AG-005-04) ~.bin to /home/ece/home/ece/anaconda3.1/lib/python3.8/site-packages/atari_py/atari_roms/skiing.bin\n",
      "copying crazy_climber.bin from /home/ece/Belgeler/RLimplementation/ROMS/Crazy Climber (1983) (Atari - Roklan, Joe Gaucher, Alex Leavens) (CX2683) ~.bin to /home/ece/home/ece/anaconda3.1/lib/python3.8/site-packages/atari_py/atari_roms/crazy_climber.bin\n",
      "copying pitfall.bin from /home/ece/Belgeler/RLimplementation/ROMS/Pitfall! - Pitfall Harry's Jungle Adventure (Jungle Runner) (1982) (Activision, David Crane) (AX-018, AX-018-04) ~.bin to /home/ece/home/ece/anaconda3.1/lib/python3.8/site-packages/atari_py/atari_roms/pitfall.bin\n",
      "copying pacman.bin from /home/ece/Belgeler/RLimplementation/ROMS/Pac-Man (1982) (Atari, Tod Frye) (CX2646) (PAL).bin to /home/ece/home/ece/anaconda3.1/lib/python3.8/site-packages/atari_py/atari_roms/pacman.bin\n",
      "copying berzerk.bin from /home/ece/Belgeler/RLimplementation/ROMS/Berzerk (1982) (Atari, Dan Hitchens - Sears) (CX2650 - 49-75168) ~.bin to /home/ece/home/ece/anaconda3.1/lib/python3.8/site-packages/atari_py/atari_roms/berzerk.bin\n",
      "copying amidar.bin from /home/ece/Belgeler/RLimplementation/ROMS/Amidar (1982) (Parker Brothers, Ed Temple) (PB5310) ~.bin to /home/ece/home/ece/anaconda3.1/lib/python3.8/site-packages/atari_py/atari_roms/amidar.bin\n",
      "copying donkey_kong.bin from /home/ece/Belgeler/RLimplementation/ROMS/Donkey Kong (1982) (Coleco - Woodside Design Associates - Imaginative Systems Software, Garry Kitchen) (2451) ~.bin to /home/ece/home/ece/anaconda3.1/lib/python3.8/site-packages/atari_py/atari_roms/donkey_kong.bin\n",
      "copying enduro.bin from /home/ece/Belgeler/RLimplementation/ROMS/Enduro (1983) (Activision, Larry Miller) (AX-026, AX-026-04) ~.bin to /home/ece/home/ece/anaconda3.1/lib/python3.8/site-packages/atari_py/atari_roms/enduro.bin\n",
      "copying king_kong.bin from /home/ece/Belgeler/RLimplementation/ROMS/King Kong (1982) (Tigervision - Software Electronics Corporation, Karl T. Olinger - Teldec) (7-001 - 3.60001 VE) (PAL).bin to /home/ece/home/ece/anaconda3.1/lib/python3.8/site-packages/atari_py/atari_roms/king_kong.bin\n",
      "copying beam_rider.bin from /home/ece/Belgeler/RLimplementation/ROMS/Beamrider (1984) (Activision - Cheshire Engineering, David Rolfe, Larry Zwick) (AZ-037-04) ~.bin to /home/ece/home/ece/anaconda3.1/lib/python3.8/site-packages/atari_py/atari_roms/beam_rider.bin\n",
      "copying gravitar.bin from /home/ece/Belgeler/RLimplementation/ROMS/Gravitar (1983) (Atari, Dan Hitchens, Mimi Nyden) (CX2685) ~.bin to /home/ece/home/ece/anaconda3.1/lib/python3.8/site-packages/atari_py/atari_roms/gravitar.bin\n",
      "copying journey_escape.bin from /home/ece/Belgeler/RLimplementation/ROMS/Journey Escape (1983) (Data Age, J. Ray Dettling) (112-006) ~.bin to /home/ece/home/ece/anaconda3.1/lib/python3.8/site-packages/atari_py/atari_roms/journey_escape.bin\n",
      "copying assault.bin from /home/ece/Belgeler/RLimplementation/ROMS/Assault (AKA Sky Alien) (1983) (Bomb - Onbase) (CA281).bin to /home/ece/home/ece/anaconda3.1/lib/python3.8/site-packages/atari_py/atari_roms/assault.bin\n",
      "copying gopher.bin from /home/ece/Belgeler/RLimplementation/ROMS/Gopher (Gopher Attack) (1982) (U.S. Games Corporation - JWDA, Sylvia Day, Todd Marshall, Robin McDaniel, Henry Will IV) (VC2001) ~.bin to /home/ece/home/ece/anaconda3.1/lib/python3.8/site-packages/atari_py/atari_roms/gopher.bin\n",
      "copying centipede.bin from /home/ece/Belgeler/RLimplementation/ROMS/Centipede (1983) (Atari - GCC) (CX2676) ~.bin to /home/ece/home/ece/anaconda3.1/lib/python3.8/site-packages/atari_py/atari_roms/centipede.bin\n",
      "copying asterix.bin from /home/ece/Belgeler/RLimplementation/ROMS/Asterix (AKA Taz) (1984) (Atari, Jerome Domurat, Steve Woita) (CX2696).bin to /home/ece/home/ece/anaconda3.1/lib/python3.8/site-packages/atari_py/atari_roms/asterix.bin\n",
      "copying name_this_game.bin from /home/ece/Belgeler/RLimplementation/ROMS/Name This Game (Guardians of Treasure) (1983) (U.S. Games Corporation - JWDA, Roger Booth, Sylvia Day, Ron Dubren, Todd Marshall, Robin McDaniel, Wes Trager, Henry Will IV) (VC1007) ~.bin to /home/ece/home/ece/anaconda3.1/lib/python3.8/site-packages/atari_py/atari_roms/name_this_game.bin\n",
      "copying wizard_of_wor.bin from /home/ece/Belgeler/RLimplementation/ROMS/Wizard of Wor (1982) (CBS Electronics - Roklan, Joe Hellesen, Joe Wagner) (M8774, M8794) ~.bin to /home/ece/home/ece/anaconda3.1/lib/python3.8/site-packages/atari_py/atari_roms/wizard_of_wor.bin\n",
      "copying riverraid.bin from /home/ece/Belgeler/RLimplementation/ROMS/River Raid (1982) (Activision, Carol Shaw) (AX-020, AX-020-04) ~.bin to /home/ece/home/ece/anaconda3.1/lib/python3.8/site-packages/atari_py/atari_roms/riverraid.bin\n",
      "copying frogger.bin from /home/ece/Belgeler/RLimplementation/ROMS/Frogger (1982) (Parker Brothers, Ed English, David Lamkins) (PB5300) ~.bin to /home/ece/home/ece/anaconda3.1/lib/python3.8/site-packages/atari_py/atari_roms/frogger.bin\n",
      "copying tennis.bin from /home/ece/Belgeler/RLimplementation/ROMS/Tennis - Le Tennis (1981) (Activision, Alan Miller) (AG-007, CAG-007) ~.bin to /home/ece/home/ece/anaconda3.1/lib/python3.8/site-packages/atari_py/atari_roms/tennis.bin\n",
      "copying kung_fu_master.bin from /home/ece/Belgeler/RLimplementation/ROMS/Kung-Fu Master (1987) (Activision - Imagineering, Dan Kitchen, Garry Kitchen) (AG-039-04) ~.bin to /home/ece/home/ece/anaconda3.1/lib/python3.8/site-packages/atari_py/atari_roms/kung_fu_master.bin\n",
      "copying laser_gates.bin from /home/ece/Belgeler/RLimplementation/ROMS/Laser Gates (AKA Innerspace) (1983) (Imagic, Dan Oliver) (720118-2A, 13208, EIX-007-04I) (PAL).bin to /home/ece/home/ece/anaconda3.1/lib/python3.8/site-packages/atari_py/atari_roms/laser_gates.bin\n",
      "copying seaquest.bin from /home/ece/Belgeler/RLimplementation/ROMS/Seaquest (1983) (Activision, Steve Cartwright) (AX-022) ~.bin to /home/ece/home/ece/anaconda3.1/lib/python3.8/site-packages/atari_py/atari_roms/seaquest.bin\n",
      "copying pong.bin from /home/ece/Belgeler/RLimplementation/ROMS/Video Olympics - Pong Sports (Paddle) (1977) (Atari, Joe Decuir - Sears) (CX2621 - 99806, 6-99806, 49-75104) ~.bin to /home/ece/home/ece/anaconda3.1/lib/python3.8/site-packages/atari_py/atari_roms/pong.bin\n",
      "copying battle_zone.bin from /home/ece/Belgeler/RLimplementation/ROMS/Battlezone (1983) (Atari - GCC, Mike Feinstein, Brad Rice) (CX2681) ~.bin to /home/ece/home/ece/anaconda3.1/lib/python3.8/site-packages/atari_py/atari_roms/battle_zone.bin\n",
      "copying solaris.bin from /home/ece/Belgeler/RLimplementation/ROMS/Solaris (The Last Starfighter, Star Raiders II, Universe) (1986) (Atari, Douglas Neubauer, Mimi Nyden) (CX26136) ~.bin to /home/ece/home/ece/anaconda3.1/lib/python3.8/site-packages/atari_py/atari_roms/solaris.bin\n",
      "copying time_pilot.bin from /home/ece/Belgeler/RLimplementation/ROMS/Time Pilot (1983) (Coleco - Woodside Design Associates, Harley H. Puthuff Jr.) (2663) ~.bin to /home/ece/home/ece/anaconda3.1/lib/python3.8/site-packages/atari_py/atari_roms/time_pilot.bin\n",
      "copying kangaroo.bin from /home/ece/Belgeler/RLimplementation/ROMS/Kangaroo (1983) (Atari - GCC, Kevin Osborn) (CX2689) ~.bin to /home/ece/home/ece/anaconda3.1/lib/python3.8/site-packages/atari_py/atari_roms/kangaroo.bin\n",
      "copying ms_pacman.bin from /home/ece/Belgeler/RLimplementation/ROMS/Ms. Pac-Man (1983) (Atari - GCC, Mark Ackerman, Glenn Parker) (CX2675) ~.bin to /home/ece/home/ece/anaconda3.1/lib/python3.8/site-packages/atari_py/atari_roms/ms_pacman.bin\n",
      "copying phoenix.bin from /home/ece/Belgeler/RLimplementation/ROMS/Phoenix (1983) (Atari - GCC, Mike Feinstein, John Mracek) (CX2673) ~.bin to /home/ece/home/ece/anaconda3.1/lib/python3.8/site-packages/atari_py/atari_roms/phoenix.bin\n",
      "copying montezuma_revenge.bin from /home/ece/Belgeler/RLimplementation/ROMS/Montezuma's Revenge - Featuring Panama Joe (1984) (Parker Brothers - JWDA, Henry Will IV) (PB5760) ~.bin to /home/ece/home/ece/anaconda3.1/lib/python3.8/site-packages/atari_py/atari_roms/montezuma_revenge.bin\n",
      "copying koolaid.bin from /home/ece/Belgeler/RLimplementation/ROMS/Kool-Aid Man (Kool Aid Pitcher Man) (1983) (M Network, Stephen Tatsumi, Jane Terjung - Kool Aid) (MT4648) ~.bin to /home/ece/home/ece/anaconda3.1/lib/python3.8/site-packages/atari_py/atari_roms/koolaid.bin\n",
      "copying bank_heist.bin from /home/ece/Belgeler/RLimplementation/ROMS/Bank Heist (Bonnie & Clyde, Cops 'n' Robbers, Hold-Up, Roaring 20's) (1983) (20th Century Fox Video Games, Bill Aspromonte) (11012) ~.bin to /home/ece/home/ece/anaconda3.1/lib/python3.8/site-packages/atari_py/atari_roms/bank_heist.bin\n",
      "copying carnival.bin from /home/ece/Belgeler/RLimplementation/ROMS/Carnival (1982) (Coleco - Woodside Design Associates, Steve 'Jessica Stevens' Kitchen) (2468) ~.bin to /home/ece/home/ece/anaconda3.1/lib/python3.8/site-packages/atari_py/atari_roms/carnival.bin\n",
      "copying hero.bin from /home/ece/Belgeler/RLimplementation/ROMS/H.E.R.O. (1984) (Activision, John Van Ryzin) (AZ-036-04) ~.bin to /home/ece/home/ece/anaconda3.1/lib/python3.8/site-packages/atari_py/atari_roms/hero.bin\n",
      "copying kaboom.bin from /home/ece/Belgeler/RLimplementation/ROMS/Kaboom! (Paddle) (1981) (Activision, Larry Kaplan, David Crane) (AG-010, AG-010-04) ~.bin to /home/ece/home/ece/anaconda3.1/lib/python3.8/site-packages/atari_py/atari_roms/kaboom.bin\n",
      "copying defender.bin from /home/ece/Belgeler/RLimplementation/ROMS/Defender (1982) (Atari, Robert C. Polaro, Alan J. Murphy - Sears) (CX2609 - 49-75186) ~.bin to /home/ece/home/ece/anaconda3.1/lib/python3.8/site-packages/atari_py/atari_roms/defender.bin\n",
      "copying space_invaders.bin from /home/ece/Belgeler/RLimplementation/ROMS/Space Invaders (1980) (Atari, Richard Maurer - Sears) (CX2632 - 49-75153) ~.bin to /home/ece/home/ece/anaconda3.1/lib/python3.8/site-packages/atari_py/atari_roms/space_invaders.bin\n",
      "copying sir_lancelot.bin from /home/ece/Belgeler/RLimplementation/ROMS/Sir Lancelot (1983) (Xonox - K-Tel Software - Product Guild, Anthony R. Henderson) (99006, 6220) (PAL).bin to /home/ece/home/ece/anaconda3.1/lib/python3.8/site-packages/atari_py/atari_roms/sir_lancelot.bin\n",
      "copying bowling.bin from /home/ece/Belgeler/RLimplementation/ROMS/Bowling (1979) (Atari, Larry Kaplan - Sears) (CX2628 - 6-99842, 49-75117) ~.bin to /home/ece/home/ece/anaconda3.1/lib/python3.8/site-packages/atari_py/atari_roms/bowling.bin\n",
      "copying atlantis.bin from /home/ece/Belgeler/RLimplementation/ROMS/Atlantis (Lost City of Atlantis) (1982) (Imagic, Dennis Koble) (720103-1A, 720103-1B, IA3203, IX-010-04) ~.bin to /home/ece/home/ece/anaconda3.1/lib/python3.8/site-packages/atari_py/atari_roms/atlantis.bin\n",
      "copying up_n_down.bin from /home/ece/Belgeler/RLimplementation/ROMS/Up 'n Down (1984) (SEGA - Beck-Tech, Steve Beck, Phat Ho) (009-01) ~.bin to /home/ece/home/ece/anaconda3.1/lib/python3.8/site-packages/atari_py/atari_roms/up_n_down.bin\n",
      "copying yars_revenge.bin from /home/ece/Belgeler/RLimplementation/ROMS/Yars' Revenge (Time Freeze) (1982) (Atari, Howard Scott Warshaw - Sears) (CX2655 - 49-75167) ~.bin to /home/ece/home/ece/anaconda3.1/lib/python3.8/site-packages/atari_py/atari_roms/yars_revenge.bin\n",
      "copying mr_do.bin from /home/ece/Belgeler/RLimplementation/ROMS/Mr. Do! (1983) (CBS Electronics, Ed English) (4L4478) (PAL).bin to /home/ece/home/ece/anaconda3.1/lib/python3.8/site-packages/atari_py/atari_roms/mr_do.bin\n",
      "copying air_raid.bin from /home/ece/Belgeler/RLimplementation/ROMS/Air Raid (Men-A-Vision) (PAL) ~.bin to /home/ece/home/ece/anaconda3.1/lib/python3.8/site-packages/atari_py/atari_roms/air_raid.bin\n",
      "copying keystone_kapers.bin from /home/ece/Belgeler/RLimplementation/ROMS/Keystone Kapers - Raueber und Gendarm (1983) (Activision, Garry Kitchen - Ariola) (EAX-025, EAX-025-04I - 711 025-725) (PAL).bin to /home/ece/home/ece/anaconda3.1/lib/python3.8/site-packages/atari_py/atari_roms/keystone_kapers.bin\n",
      "copying alien.bin from /home/ece/Belgeler/RLimplementation/ROMS/Alien (1982) (20th Century Fox Video Games, Douglas 'Dallas North' Neubauer) (11006) ~.bin to /home/ece/home/ece/anaconda3.1/lib/python3.8/site-packages/atari_py/atari_roms/alien.bin\n",
      "copying private_eye.bin from /home/ece/Belgeler/RLimplementation/ROMS/Private Eye (1984) (Activision, Bob Whitehead) (AG-034-04) ~.bin to /home/ece/home/ece/anaconda3.1/lib/python3.8/site-packages/atari_py/atari_roms/private_eye.bin\n",
      "copying elevator_action.bin from /home/ece/Belgeler/RLimplementation/ROMS/Elevator Action (1983) (Atari, Dan Hitchens) (CX26126) (Prototype) ~.bin to /home/ece/home/ece/anaconda3.1/lib/python3.8/site-packages/atari_py/atari_roms/elevator_action.bin\r\n",
      "copying krull.bin from /home/ece/Belgeler/RLimplementation/ROMS/Krull (1983) (Atari, Jerome Domurat, Dave Staugas) (CX2682) ~.bin to /home/ece/home/ece/anaconda3.1/lib/python3.8/site-packages/atari_py/atari_roms/krull.bin\r\n",
      "copying jamesbond.bin from /home/ece/Belgeler/RLimplementation/ROMS/James Bond 007 (James Bond Agent 007) (1984) (Parker Brothers - On-Time Software, Joe Gaucher, Louis Marbel) (PB5110) ~.bin to /home/ece/home/ece/anaconda3.1/lib/python3.8/site-packages/atari_py/atari_roms/jamesbond.bin\r\n",
      "copying robotank.bin from /home/ece/Belgeler/RLimplementation/ROMS/Robot Tank (Robotank) (1983) (Activision, Alan Miller) (AZ-028, AG-028-04) ~.bin to /home/ece/home/ece/anaconda3.1/lib/python3.8/site-packages/atari_py/atari_roms/robotank.bin\r\n",
      "copying frostbite.bin from /home/ece/Belgeler/RLimplementation/ROMS/Frostbite (1983) (Activision, Steve Cartwright) (AX-031) ~.bin to /home/ece/home/ece/anaconda3.1/lib/python3.8/site-packages/atari_py/atari_roms/frostbite.bin\r\n"
     ]
    }
   ],
   "source": [
    "#the code to quit the ROM issue \n",
    "!python -m atari_py.import_roms /home/ece/Belgeler/RLimplementation/ROMS"
   ]
  },
  {
   "cell_type": "code",
   "execution_count": 5,
   "id": "f29f983d",
   "metadata": {},
   "outputs": [],
   "source": [
    "env = gym.make('SpaceInvaders-v0')\n",
    "height, width, channels = env.observation_space.shape #for image's shape\n",
    "actions = env.action_space.n"
   ]
  },
  {
   "cell_type": "code",
   "execution_count": 6,
   "id": "93da9d20",
   "metadata": {
    "scrolled": true
   },
   "outputs": [
    {
     "data": {
      "text/plain": [
       "['NOOP', 'FIRE', 'RIGHT', 'LEFT', 'RIGHTFIRE', 'LEFTFIRE']"
      ]
     },
     "execution_count": 6,
     "metadata": {},
     "output_type": "execute_result"
    }
   ],
   "source": [
    "env.unwrapped.get_action_meanings() #actions' names"
   ]
  },
  {
   "cell_type": "code",
   "execution_count": 7,
   "id": "4c57862e",
   "metadata": {},
   "outputs": [
    {
     "name": "stdout",
     "output_type": "stream",
     "text": [
      "Episode:1 Score:345.0\n",
      "Episode:2 Score:110.0\n",
      "Episode:3 Score:190.0\n",
      "Episode:4 Score:50.0\n",
      "Episode:5 Score:115.0\n"
     ]
    }
   ],
   "source": [
    "episodes= 5\n",
    "for episode in range (1, episodes+1):\n",
    "    state = env.reset()\n",
    "    done = False\n",
    "    score = 0\n",
    "    \n",
    "    while not done:\n",
    "        env.render()\n",
    "        action = random.choice([0,1,2,3,4,5])\n",
    "        n_state, reward, done, info = env.step(action)\n",
    "        score+=reward\n",
    "    print(\"Episode:{} Score:{}\".format(episode, score))\n",
    "env.close()"
   ]
  },
  {
   "cell_type": "code",
   "execution_count": 8,
   "id": "6f5daee4",
   "metadata": {},
   "outputs": [],
   "source": [
    "#create a deep learning model with keras"
   ]
  },
  {
   "cell_type": "code",
   "execution_count": 9,
   "id": "47b1b7a4",
   "metadata": {},
   "outputs": [],
   "source": [
    "import numpy as np\n",
    "from tensorflow.keras.models import Sequential\n",
    "from tensorflow.keras.layers import Dense,Flatten, Convolution2D\n",
    "from tensorflow.keras.optimizers import Adam "
   ]
  },
  {
   "cell_type": "code",
   "execution_count": 22,
   "id": "3324ae1d",
   "metadata": {},
   "outputs": [],
   "source": [
    "def build_model(height, width, channels, actions):\n",
    "    model = Sequential()\n",
    "    model.add(Convolution2D(32, (8,8), strides=(4,4), activation='relu', input_shape=(3,height, width, channels)))\n",
    "    model.add(Convolution2D(64, (4,4), strides=(2,2), activation='relu'))\n",
    "    model.add(Convolution2D(64, (3,3), activation='relu'))\n",
    "    model.add(Flatten())\n",
    "    model.add(Dense(512, activation='relu'))\n",
    "    model.add(Dense(256, activation='relu'))\n",
    "    model.add(Dense(actions, activation='linear'))\n",
    "    return model"
   ]
  },
  {
   "cell_type": "code",
   "execution_count": 23,
   "id": "3c90024d",
   "metadata": {},
   "outputs": [],
   "source": [
    "model = build_model(height, width, channels, actions)"
   ]
  },
  {
   "cell_type": "code",
   "execution_count": 24,
   "id": "90af0373",
   "metadata": {},
   "outputs": [
    {
     "name": "stdout",
     "output_type": "stream",
     "text": [
      "Model: \"sequential_1\"\n",
      "_________________________________________________________________\n",
      "Layer (type)                 Output Shape              Param #   \n",
      "=================================================================\n",
      "conv2d_3 (Conv2D)            (None, 3, 51, 39, 32)     6176      \n",
      "_________________________________________________________________\n",
      "conv2d_4 (Conv2D)            (None, 3, 24, 18, 64)     32832     \n",
      "_________________________________________________________________\n",
      "conv2d_5 (Conv2D)            (None, 3, 22, 16, 64)     36928     \n",
      "_________________________________________________________________\n",
      "flatten_1 (Flatten)          (None, 67584)             0         \n",
      "_________________________________________________________________\n",
      "dense_6 (Dense)              (None, 512)               34603520  \n",
      "_________________________________________________________________\n",
      "dense_7 (Dense)              (None, 256)               131328    \n",
      "_________________________________________________________________\n",
      "dense_8 (Dense)              (None, 6)                 1542      \n",
      "=================================================================\n",
      "Total params: 34,812,326\n",
      "Trainable params: 34,812,326\n",
      "Non-trainable params: 0\n",
      "_________________________________________________________________\n"
     ]
    }
   ],
   "source": [
    "model.summary()"
   ]
  },
  {
   "cell_type": "code",
   "execution_count": 25,
   "id": "93024ffe",
   "metadata": {},
   "outputs": [],
   "source": [
    "#build aget with keras rl"
   ]
  },
  {
   "cell_type": "code",
   "execution_count": 26,
   "id": "662427b3",
   "metadata": {},
   "outputs": [],
   "source": [
    "from rl.agents import DQNAgent\n",
    "from rl.memory import SequentialMemory\n",
    "from rl.policy import LinearAnnealedPolicy, EpsGreedyQPolicy"
   ]
  },
  {
   "cell_type": "code",
   "execution_count": 27,
   "id": "f06261e4",
   "metadata": {},
   "outputs": [],
   "source": [
    "def build_agent(model, actions):\n",
    "    policy = LinearAnnealedPolicy(EpsGreedyQPolicy(), attr='eps', value_max=1., value_min=.1, value_test=.2, nb_steps=10000)\n",
    "    memory = SequentialMemory(limit=1000, window_length=3)\n",
    "    dqn = DQNAgent(model=model, memory=memory, policy=policy,\n",
    "                  enable_dueling_network=True, dueling_type='avg', \n",
    "                   nb_actions=actions, nb_steps_warmup=1000\n",
    "                  )\n",
    "    return dqn"
   ]
  },
  {
   "cell_type": "code",
   "execution_count": 28,
   "id": "5449eb73",
   "metadata": {},
   "outputs": [],
   "source": [
    "dqn = build_agent(model, actions)\n",
    "dqn.compile(Adam(lr=1e-4))"
   ]
  },
  {
   "cell_type": "code",
   "execution_count": null,
   "id": "c5dd9440",
   "metadata": {},
   "outputs": [
    {
     "name": "stdout",
     "output_type": "stream",
     "text": [
      "Training for 10000 steps ...\n",
      "WARNING:tensorflow:From /home/ece/home/ece/anaconda3.1/lib/python3.8/site-packages/tensorflow/python/keras/engine/training_v1.py:2070: Model.state_updates (from tensorflow.python.keras.engine.training) is deprecated and will be removed in a future version.\n",
      "Instructions for updating:\n",
      "This property should not be used in TensorFlow 2.0, as updates are applied automatically.\n",
      " 1355/10000: episode: 1, duration: 1027.511s, episode steps: 1355, steps per second:   1, episode reward: 765.000, mean reward:  0.565 [ 0.000, 200.000], mean action: 2.532 [0.000, 5.000],  loss: 17.479782, mean_q: 2.410064, mean_eps: 0.894025\n"
     ]
    }
   ],
   "source": [
    "dqn.fit(env, nb_steps=10000, visualize=False, verbose=2)"
   ]
  },
  {
   "cell_type": "code",
   "execution_count": null,
   "id": "353959d5",
   "metadata": {},
   "outputs": [],
   "source": [
    "scores = dqn.test(env, nb_episodes=10, visuzalize=True)\n",
    "print(np.mean(scores.history[\"episodes_reward\"]))"
   ]
  },
  {
   "cell_type": "code",
   "execution_count": null,
   "id": "9dceceb2",
   "metadata": {},
   "outputs": [],
   "source": [
    "#reloading agent from memory"
   ]
  },
  {
   "cell_type": "code",
   "execution_count": null,
   "id": "00e68e0a",
   "metadata": {},
   "outputs": [],
   "source": [
    "dqn.save_weights(\"SavedWeights/10k-Fastdqn_weights.h5f\")"
   ]
  },
  {
   "cell_type": "code",
   "execution_count": null,
   "id": "3584743b",
   "metadata": {},
   "outputs": [],
   "source": [
    "del model, dqn"
   ]
  },
  {
   "cell_type": "code",
   "execution_count": null,
   "id": "82d7cc8c",
   "metadata": {},
   "outputs": [],
   "source": [
    "dqn.load_weights(\"SavedWeights/1m/dqn_weights.h5f\")"
   ]
  }
 ],
 "metadata": {
  "kernelspec": {
   "display_name": "Python 3",
   "language": "python",
   "name": "python3"
  },
  "language_info": {
   "codemirror_mode": {
    "name": "ipython",
    "version": 3
   },
   "file_extension": ".py",
   "mimetype": "text/x-python",
   "name": "python",
   "nbconvert_exporter": "python",
   "pygments_lexer": "ipython3",
   "version": "3.8.5"
  }
 },
 "nbformat": 4,
 "nbformat_minor": 5
}
